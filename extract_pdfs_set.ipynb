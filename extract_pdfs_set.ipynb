{
 "cells": [
  {
   "cell_type": "code",
   "execution_count": 1,
   "metadata": {},
   "outputs": [],
   "source": [
    "import requests\n",
    "from bs4 import BeautifulSoup\n",
    "import urllib3\n",
    "\n",
    "# Avoid 'dh key too small' error\n",
    "requests.packages.urllib3.disable_warnings()\n",
    "requests.packages.urllib3.util.ssl_.DEFAULT_CIPHERS += ':HIGH:!DH:!aNULL'\n",
    "\n",
    "# Folder URL\n",
    "url = 'https://www.set.gov.py/portal/PARAGUAY-SET/Home/est?folder-id=repository:collaboration:/sites/PARAGUAY-SET/categories/SET/Estadistica/ranking-de-mayores-aportantes-al-fisco'\n"
   ]
  },
  {
   "cell_type": "markdown",
   "metadata": {},
   "source": [
    "## Los links que almacenan cada uno de los PDFs"
   ]
  },
  {
   "cell_type": "code",
   "execution_count": 2,
   "metadata": {},
   "outputs": [
    {
     "data": {
      "text/plain": [
       "'/portal/PARAGUAY-SET/detail?folder-id=repository:collaboration:/sites/PARAGUAY-SET/categories/SET/Estadistica/ranking-de-mayores-aportantes-al-fisco&content-id=/repository/collaboration/sites/PARAGUAY-SET/documents/estadistica/ranking-de-contribuyentes-con-mayor-aporte-al-fisco/Contribuyentes%20con%20mayores%20aportes%20de%20la%20SET%20-%20Ano%202021.pdf'"
      ]
     },
     "execution_count": 2,
     "metadata": {},
     "output_type": "execute_result"
    }
   ],
   "source": [
    "# Request the URL\n",
    "res = requests.get(url)\n",
    "\n",
    "# Parse text obtained\n",
    "soup = BeautifulSoup(res.text, 'html.parser')\n",
    "\n",
    "# Find all hyperlinks we'll need\n",
    "links = soup.find_all('a')\n",
    "\n",
    "\n",
    "# save the download link of every page\n",
    "download_pages = []\n",
    "for link in links:\n",
    "    if '.pdf' in link.get('href', []):\n",
    "        # print('link: ', link.get('href', []))\n",
    "        # print(\"---------------\")\n",
    "        download_pages.append(link.get('href', []))\n",
    "download_pages[0]"
   ]
  },
  {
   "cell_type": "markdown",
   "metadata": {},
   "source": [
    "## Las subpaginas que almacenan los PDFs, cambian de URL base"
   ]
  },
  {
   "cell_type": "code",
   "execution_count": 22,
   "metadata": {},
   "outputs": [
    {
     "name": "stdout",
     "output_type": "stream",
     "text": [
      "https://www.set.gov.py/rest/contents/download/collaboration/sites/PARAGUAY-SET/documents/estadistica/ranking-de-contribuyentes-con-mayor-aporte-al-fisco/contribuyentes-con-mayores-aportes-ano-2014.pdf?version=4\n",
      "response\n",
      "<Response [200]>\n",
      "https://www.set.gov.py/rest/contents/download/collaboration/sites/PARAGUAY-SET/documents/estadistica/ranking-de-contribuyentes-con-mayor-aporte-al-fisco/contribuyentes-con-mayores-aportes-ano-2014.pdf\n",
      "response\n",
      "<Response [200]>\n"
     ]
    }
   ],
   "source": [
    "# Por cada uno de esos enlances\n",
    "# volemos a hacer el request, parsear y buscar los enlaces\n",
    "\n",
    "url_base = 'https://www.set.gov.py'     \n",
    "\n",
    "sub_page = url_base + download_pages[7]\n",
    "\n",
    "# Request the URL\n",
    "res_sub_page = requests.get(sub_page)\n",
    "\n",
    "# Parse text obtained\n",
    "soup_sub_page = BeautifulSoup(res_sub_page.text, 'html.parser')\n",
    "\n",
    "# Find all hyperlinks we'll need\n",
    "links_sub_page = soup_sub_page.find_all('a')\n",
    "\n",
    "# save the download link of every page\n",
    "i = 0\n",
    "for link in links_sub_page:\n",
    "    if '.pdf' in link.get('href', []):\n",
    "        print(url_base + link.get('href', []))\n",
    "        response = requests.get(url_base + link.get('href', []))\n",
    "        print('response')\n",
    "        print(response)\n",
    "        i += 1\n",
    "        # Write content in pdf file\n",
    "        # pdf = open(\"./pdfs/pdf\"+ str(i) +\".pdf\", 'wb')\n",
    "        # pdf.write(response.content)\n",
    "        # pdf.close()"
   ]
  },
  {
   "cell_type": "code",
   "execution_count": 24,
   "metadata": {},
   "outputs": [
    {
     "name": "stdout",
     "output_type": "stream",
     "text": [
      "https://www.set.gov.py/rest/contents/download/collaboration/sites/PARAGUAY-SET/documents/estadistica/ranking-de-contribuyentes-con-mayor-aporte-al-fisco/Contribuyentes+con+mayores+aportes+de+la+SET+-+Ano+2021.pdf?version=1\n",
      "descargando file  1\n",
      "https://www.set.gov.py/rest/contents/download/collaboration/sites/PARAGUAY-SET/documents/estadistica/ranking-de-contribuyentes-con-mayor-aporte-al-fisco/Contribuyentes+con+mayores+aportes+de+la+SET+-+A%C3%B1o+2020.pdf?version=1\n",
      "descargando file  2\n",
      "https://www.set.gov.py/rest/contents/download/collaboration/sites/PARAGUAY-SET/documents/estadistica/ranking-de-contribuyentes-con-mayor-aporte-al-fisco/Contribuyentes+con+mayores+aportes+de+la+SET+-+Ano+2019.pdf?version=1\n",
      "descargando file  3\n",
      "https://www.set.gov.py/rest/contents/download/collaboration/sites/PARAGUAY-SET/documents/estadistica/ranking-de-contribuyentes-con-mayor-aporte-al-fisco/Contribuyentes+con+mayores+aportes+de+la+SET+-+Ano+2018.pdf?version=1\n",
      "descargando file  4\n",
      "https://www.set.gov.py/rest/contents/download/collaboration/sites/PARAGUAY-SET/documents/estadistica/ranking-de-contribuyentes-con-mayor-aporte-al-fisco/Contribuyentes+con+mayores+aportes+de+la+SET+-+Ano+2017.pdf?version=1\n",
      "descargando file  5\n",
      "https://www.set.gov.py/rest/contents/download/collaboration/sites/PARAGUAY-SET/documents/estadistica/ranking-de-contribuyentes-con-mayor-aporte-al-fisco/contribuyentes-con-mayores-aportes-de-la-set-ano-2016.pdf?version=2\n",
      "descargando file  6\n",
      "https://www.set.gov.py/rest/contents/download/collaboration/sites/PARAGUAY-SET/documents/estadistica/ranking-de-contribuyentes-con-mayor-aporte-al-fisco/contribuyentes-con-mayores-aportes-ano-2015.pdf?version=1\n",
      "descargando file  7\n",
      "https://www.set.gov.py/rest/contents/download/collaboration/sites/PARAGUAY-SET/documents/estadistica/ranking-de-contribuyentes-con-mayor-aporte-al-fisco/contribuyentes-con-mayores-aportes-ano-2014.pdf?version=4\n",
      "descargando file  8\n",
      "https://www.set.gov.py/rest/contents/download/collaboration/sites/PARAGUAY-SET/documents/estadistica/ranking-de-contribuyentes-con-mayor-aporte-al-fisco/contribuyentes-con-mayores-aportes-ano-2013.pdf?version=5\n",
      "descargando file  9\n",
      "https://www.set.gov.py/rest/contents/download/collaboration/sites/PARAGUAY-SET/documents/estadistica/ranking-de-contribuyentes-con-mayor-aporte-al-fisco/contribuyentes-con-mayores-aportes-ano-2009.pdf?version=3\n",
      "descargando file  10\n",
      "https://www.set.gov.py/rest/contents/download/collaboration/sites/PARAGUAY-SET/documents/estadistica/ranking-de-contribuyentes-con-mayor-aporte-al-fisco/contribuyentes-con-mayores-aportes-ano-2008.pdf?version=3\n",
      "descargando file  11\n",
      "https://www.set.gov.py/rest/contents/download/collaboration/sites/PARAGUAY-SET/documents/estadistica/ranking-de-contribuyentes-con-mayor-aporte-al-fisco/contribuyentes-con-mayores-aportes-ano-2007.pdf?version=4\n",
      "descargando file  12\n",
      "https://www.set.gov.py/rest/contents/download/collaboration/sites/PARAGUAY-SET/documents/estadistica/ranking-de-contribuyentes-con-mayor-aporte-al-fisco/contribuyentes-con-mayores-aportes-ano-2006.pdf?version=3\n",
      "descargando file  13\n",
      "https://www.set.gov.py/rest/contents/download/collaboration/sites/PARAGUAY-SET/documents/estadistica/ranking-de-contribuyentes-con-mayor-aporte-al-fisco/contribuyentes-con-mayores-aportes-ano-2005.pdf?version=3\n",
      "descargando file  14\n",
      "https://www.set.gov.py/rest/contents/download/collaboration/sites/PARAGUAY-SET/documents/estadistica/ranking-de-contribuyentes-con-mayor-aporte-al-fisco/contribuyentes-con-mayores-aportes-ano-2004.pdf?version=3\n",
      "descargando file  15\n"
     ]
    }
   ],
   "source": [
    "# Por cada uno de esos enlances\n",
    "# volemos a hacer el request, parsear y buscar los enlaces\n",
    "\n",
    "url_base = 'https://www.set.gov.py'     # las subpaginas cambian la url base (maravilloso)\n",
    "\n",
    "i = 0\n",
    "\n",
    "for sub_page in download_pages:\n",
    "\n",
    "    # Request the URL\n",
    "    res_sub_page = requests.get(url_base + sub_page)\n",
    "\n",
    "    soup_sub_page = BeautifulSoup(res_sub_page.text, 'html.parser')\n",
    "\n",
    "    links_sub_page = soup_sub_page.find_all('a')\n",
    "\n",
    "    # save the download link of every page\n",
    "    for link in links_sub_page:\n",
    "        if '.pdf?version' in link.get('href', []):  # cada sitio web tiene dos links con el mismo archivo (encantador)\n",
    "            print(url_base + link.get('href', []))\n",
    "            response = requests.get(url_base + link.get('href', []))\n",
    "            i += 1\n",
    "            print(\"descargando file \", i)\n",
    "            pdf = open(\"./pdfs/pdf\"+ str(i) +\".pdf\", 'wb')\n",
    "            pdf.write(response.content)\n",
    "            pdf.close()"
   ]
  }
 ],
 "metadata": {
  "kernelspec": {
   "display_name": "Python 3.8.10 64-bit",
   "language": "python",
   "name": "python3"
  },
  "language_info": {
   "codemirror_mode": {
    "name": "ipython",
    "version": 3
   },
   "file_extension": ".py",
   "mimetype": "text/x-python",
   "name": "python",
   "nbconvert_exporter": "python",
   "pygments_lexer": "ipython3",
   "version": "3.8.10"
  },
  "orig_nbformat": 4,
  "vscode": {
   "interpreter": {
    "hash": "31f2aee4e71d21fbe5cf8b01ff0e069b9275f58929596ceb00d14d90e3e16cd6"
   }
  }
 },
 "nbformat": 4,
 "nbformat_minor": 2
}
